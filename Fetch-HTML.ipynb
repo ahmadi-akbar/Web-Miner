{
 "cells": [
  {
   "cell_type": "code",
   "execution_count": 7,
   "metadata": {
    "collapsed": true
   },
   "outputs": [],
   "source": [
    "from bs4 import BeautifulSoup\n",
    "import urllib2"
   ]
  },
  {
   "cell_type": "code",
   "execution_count": 8,
   "metadata": {
    "collapsed": false
   },
   "outputs": [],
   "source": [
    "# fetch html page from url\n",
    "html_text = urllib2.urlopen(\"https://en.wikipedia.org/wiki/Jennifer_Aniston\").read()"
   ]
  },
  {
   "cell_type": "code",
   "execution_count": 9,
   "metadata": {
    "collapsed": false
   },
   "outputs": [],
   "source": [
    "# use beautiful soup to extract text from html\n",
    "soup = BeautifulSoup(html_text, \"html.parser\")\n",
    "text = \"\"\n",
    "\n",
    "# stripping <script> tags if any\n",
    "for script in soup.find_all(\"script\"):\n",
    "    soup.script.extract()\n",
    "\n",
    "# extracting text from html paragraphs\n",
    "for para in soup.find_all(\"p\"):\n",
    "    if text == \"\":\n",
    "        text = para.get_text()\n",
    "    else:\n",
    "        text = text + \"\\n\\n\" + para.get_text()"
   ]
  },
  {
   "cell_type": "code",
   "execution_count": 10,
   "metadata": {
    "collapsed": false
   },
   "outputs": [],
   "source": [
    "# removing wiki-references\n",
    "import re\n",
    "text = re.sub(r'\\[\\d+\\]', '', text)\n",
    "print text"
   ]
  },
  {
   "cell_type": "code",
   "execution_count": 11,
   "metadata": {
    "collapsed": false
   },
   "outputs": [],
   "source": [
    "import sys\n",
    "reload(sys)\n",
    "sys.setdefaultencoding(\"utf-8\")\n",
    "\n",
    "output_file = open(\"Aniston.txt\", \"w\")\n",
    "output_file.write(text)"
   ]
  }
 ],
 "metadata": {
  "kernelspec": {
   "display_name": "Python 2",
   "language": "python",
   "name": "python2"
  },
  "language_info": {
   "codemirror_mode": {
    "name": "ipython",
    "version": 2
   },
   "file_extension": ".py",
   "mimetype": "text/x-python",
   "name": "python",
   "nbconvert_exporter": "python",
   "pygments_lexer": "ipython2",
   "version": "2.7.13"
  }
 },
 "nbformat": 4,
 "nbformat_minor": 2
}
